{
 "cells": [
  {
   "cell_type": "markdown",
   "metadata": {},
   "source": [
    "# This is a notebook to showcase some test examples that the domain model related code works properly"
   ]
  },
  {
   "cell_type": "code",
   "execution_count": 4,
   "metadata": {},
   "outputs": [
    {
     "data": {
      "text/plain": [
       "(False, True, True)"
      ]
     },
     "execution_count": 4,
     "metadata": {},
     "output_type": "execute_result"
    }
   ],
   "source": [
    "from domain import SecurityGuy\n",
    "from domain import AccessLevel\n",
    "security_id = 69\n",
    "access_level = AccessLevel(False, 1)\n",
    "my_pin = 903248509248 # random\n",
    "guy = SecurityGuy(\"takis takopoulos\", security_id, access_level, my_pin)\n",
    "\n",
    "# should print False, True, True\n",
    "# nonexistent pin, pin that was just added, default pin list\n",
    "SecurityGuy.doesPinExist(123312), SecurityGuy.doesPinExist(1234), SecurityGuy.doesPinExist(my_pin) "
   ]
  },
  {
   "cell_type": "code",
   "execution_count": null,
   "metadata": {},
   "outputs": [],
   "source": []
  }
 ],
 "metadata": {
  "kernelspec": {
   "display_name": "Python 3.7.3 64-bit",
   "language": "python",
   "name": "python37364bit3b2cbbf77e814129a98ecc40e4280e52"
  },
  "language_info": {
   "codemirror_mode": {
    "name": "ipython",
    "version": 3
   },
   "file_extension": ".py",
   "mimetype": "text/x-python",
   "name": "python",
   "nbconvert_exporter": "python",
   "pygments_lexer": "ipython3",
   "version": "3.7.3"
  }
 },
 "nbformat": 4,
 "nbformat_minor": 2
}
